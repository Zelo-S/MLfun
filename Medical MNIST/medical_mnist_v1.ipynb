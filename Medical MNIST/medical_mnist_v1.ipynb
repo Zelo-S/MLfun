{
 "cells": [
  {
   "cell_type": "code",
   "execution_count": 1,
   "metadata": {},
   "outputs": [],
   "source": [
    "import torch\n",
    "import os\n",
    "\n",
    "from torch import optim\n",
    "import torch.nn as nn\n",
    "import torch.nn.functional as F\n",
    "from torch.utils.data import DataLoader, random_split\n",
    "from torchvision.datasets import ImageFolder\n",
    "from torchvision import transforms \n",
    "\n",
    "import matplotlib.pyplot as plt"
   ]
  },
  {
   "cell_type": "code",
   "execution_count": 2,
   "metadata": {},
   "outputs": [
    {
     "name": "stdout",
     "output_type": "stream",
     "text": [
      "['AbdomenCT', 'BreastMRI', 'ChestCT', 'CXR', 'Hand', 'HeadCT']\n"
     ]
    }
   ],
   "source": [
    "data_path = '../Medical MNIST/archive'\n",
    "print(os.listdir(data_path))"
   ]
  },
  {
   "cell_type": "code",
   "execution_count": 3,
   "metadata": {},
   "outputs": [
    {
     "name": "stdout",
     "output_type": "stream",
     "text": [
      "Size is 58954\n"
     ]
    }
   ],
   "source": [
    "dataset = ImageFolder(data_path, transform=transforms.ToTensor())\n",
    "print(f\"Size is {len(dataset)}\")"
   ]
  },
  {
   "cell_type": "code",
   "execution_count": 4,
   "metadata": {},
   "outputs": [
    {
     "name": "stdout",
     "output_type": "stream",
     "text": [
      "torch.Size([3, 64, 64])\n",
      "AbdomenCT\n"
     ]
    },
    {
     "data": {
      "image/png": "[encoded data removed]",
      "text/plain": [
       "<Figure size 432x288 with 1 Axes>"
      ]
     },
     "metadata": {
      "needs_background": "light"
     },
     "output_type": "display_data"
    }
   ],
   "source": [
    "test_img, test_lbl = dataset[0]\n",
    "\n",
    "print(test_img.shape)\n",
    "plt.imshow(test_img.permute(1, 2, 0))\n",
    "print(dataset.classes[test_lbl])"
   ]
  },
  {
   "cell_type": "code",
   "execution_count": 5,
   "metadata": {},
   "outputs": [],
   "source": [
    "batch_size = 64\n",
    "\n",
    "valid_size = len(dataset) // 10\n",
    "test_size = len(dataset) // 5\n",
    "train_size = len(dataset) - valid_size - test_size"
   ]
  },
  {
   "cell_type": "code",
   "execution_count": 6,
   "metadata": {},
   "outputs": [
    {
     "name": "stdout",
     "output_type": "stream",
     "text": [
      "41269 5895 11790\n"
     ]
    }
   ],
   "source": [
    "train_tensor, valid_tensor, test_tensor = random_split(dataset, [train_size, valid_size, test_size])\n",
    "\n",
    "print(len(train_tensor), len(valid_tensor), len(test_tensor))\n",
    "\n",
    "trainloader = DataLoader(train_tensor, batch_size=batch_size)\n",
    "validloader = DataLoader(valid_tensor, batch_size=batch_size)\n",
    "testloader = DataLoader(test_tensor, batch_size=batch_size)"
   ]
  },
  {
   "cell_type": "code",
   "execution_count": 7,
   "metadata": {},
   "outputs": [
    {
     "name": "stdout",
     "output_type": "stream",
     "text": [
      "Using cuda\n",
      "CNN(\n",
      "  (conv1): Conv2d(3, 16, kernel_size=(3, 3), stride=(1, 1))\n",
      "  (conv2): Conv2d(16, 32, kernel_size=(3, 3), stride=(1, 1))\n",
      "  (pool1): MaxPool2d(kernel_size=2, stride=2, padding=0, dilation=1, ceil_mode=False)\n",
      "  (pool2): MaxPool2d(kernel_size=2, stride=2, padding=0, dilation=1, ceil_mode=False)\n",
      "  (flatten): Flatten(start_dim=1, end_dim=-1)\n",
      "  (dropout): Dropout(p=0.2, inplace=False)\n",
      "  (lin1): Linear(in_features=6272, out_features=500, bias=True)\n",
      "  (lin2): Linear(in_features=500, out_features=131, bias=True)\n",
      ")\n"
     ]
    }
   ],
   "source": [
    "device = \"cuda\" if torch.cuda.is_available() else \"cpu\"\n",
    "print(f\"Using {device}\")\n",
    "\n",
    "class CNN(nn.Module):\n",
    "    def __init__(self):\n",
    "        super(CNN, self).__init__()\n",
    "        \n",
    "        self.conv1 = nn.Conv2d(in_channels=3, out_channels=16, kernel_size=3, stride=1, padding=0)\n",
    "        self.conv2 = nn.Conv2d(in_channels=16, out_channels=32, kernel_size=3, stride=1, padding=0)\n",
    "        \n",
    "        self.pool1 = nn.MaxPool2d(kernel_size=2, stride=2)\n",
    "        self.pool2 = nn.MaxPool2d(kernel_size=2, stride=2)\n",
    "        self.flatten = nn.Flatten()\n",
    "        self.dropout = nn.Dropout(0.2)\n",
    "        \n",
    "        self.lin1 = nn.Linear(6272, 500)\n",
    "        self.lin2 = nn.Linear(500, 131)\n",
    "    \n",
    "    def forward(self, x):\n",
    "        x = F.relu(self.conv1(x))\n",
    "        x = self.pool1(x)\n",
    "        x = F.relu(self.conv2(x))\n",
    "        x = self.pool2(x)\n",
    "        \n",
    "        x = self.flatten(x)\n",
    "        \n",
    "        x = self.dropout(x)\n",
    "        x = F.relu(self.lin1(x))\n",
    "        x = self.lin2(x)\n",
    "        \n",
    "        return x\n",
    "\n",
    "model = CNN()\n",
    "model.to(device)\n",
    "\n",
    "print(model)"
   ]
  },
  {
   "cell_type": "code",
   "execution_count": 8,
   "metadata": {},
   "outputs": [],
   "source": [
    "criterion = nn.CrossEntropyLoss()\n",
    "optimizer = optim.SGD(model.parameters(), lr=0.01)"
   ]
  },
  {
   "cell_type": "code",
   "execution_count": 10,
   "metadata": {},
   "outputs": [
    {
     "name": "stdout",
     "output_type": "stream",
     "text": [
      "Iteration: 50 Accuracy: 98.55809783935547\n",
      "Iteration: 100 Accuracy: 99.71162414550781\n",
      "Iteration: 150 Accuracy: 99.72858428955078\n",
      "Iteration: 200 Accuracy: 99.72858428955078\n",
      "Iteration: 250 Accuracy: 99.62680053710938\n",
      "Iteration: 300 Accuracy: 99.69465637207031\n",
      "Iteration: 350 Accuracy: 99.72858428955078\n",
      "Iteration: 400 Accuracy: 99.40628051757812\n",
      "Iteration: 450 Accuracy: 99.77947235107422\n",
      "Iteration: 500 Accuracy: 99.74554443359375\n",
      "Iteration: 550 Accuracy: 99.71162414550781\n",
      "Iteration: 600 Accuracy: 99.71162414550781\n",
      "On epoch: 0\n",
      "Iteration: 650 Accuracy: 99.62680053710938\n",
      "Iteration: 700 Accuracy: 99.28752899169922\n",
      "Iteration: 750 Accuracy: 99.74554443359375\n",
      "Iteration: 800 Accuracy: 99.69465637207031\n",
      "Iteration: 850 Accuracy: 99.74554443359375\n",
      "Iteration: 900 Accuracy: 99.64376831054688\n",
      "Iteration: 950 Accuracy: 99.62680053710938\n",
      "Iteration: 1000 Accuracy: 99.72858428955078\n",
      "Iteration: 1050 Accuracy: 99.74554443359375\n",
      "Iteration: 1100 Accuracy: 99.81340026855469\n",
      "Iteration: 1150 Accuracy: 99.76251220703125\n",
      "Iteration: 1200 Accuracy: 99.72858428955078\n",
      "Iteration: 1250 Accuracy: 99.72858428955078\n",
      "On epoch: 1\n"
     ]
    }
   ],
   "source": [
    "epochs = 2 \n",
    "count = 0\n",
    "\n",
    "for epoch in range(epochs):\n",
    "    \n",
    "    model.train()\n",
    "    for batch, (images, labels) in enumerate(trainloader):\n",
    "        images, labels = images.to(device), labels.to(device)\n",
    "        \n",
    "        optimizer.zero_grad()\n",
    "        \n",
    "        output = model(images)        \n",
    "        loss = criterion(output, labels)\n",
    "        \n",
    "        loss.backward()\n",
    "        optimizer.step()\n",
    "        \n",
    "        count += 1\n",
    "        \n",
    "        if count % 50 == 0:\n",
    "            model.eval()\n",
    "\n",
    "            correct = 0\n",
    "            total = 0\n",
    "            for batch, (images, labels) in enumerate(validloader):\n",
    "                images, labels = images.to(device), labels.to(device)\n",
    "                \n",
    "                output = model(images)\n",
    "                \n",
    "                total += len(labels)\n",
    "                _, top_class = torch.topk(output, 1, dim=1)\n",
    "                correct += (top_class == labels.view(*top_class.shape)).sum()\n",
    "            \n",
    "            accuracy = 100 * correct / float(total)\n",
    "            print(f\"Iteration: {count} Accuracy: {accuracy}\")\n",
    "    print(f\"On epoch: {epoch}\")"
   ]
  },
  {
   "cell_type": "code",
   "execution_count": 11,
   "metadata": {},
   "outputs": [],
   "source": [
    "torch.save(model.state_dict(), 'checkpoint.pth')"
   ]
  },
  {
   "cell_type": "code",
   "execution_count": 12,
   "metadata": {},
   "outputs": [
    {
     "data": {
      "text/plain": [
       "<All keys matched successfully>"
      ]
     },
     "execution_count": 12,
     "metadata": {},
     "output_type": "execute_result"
    }
   ],
   "source": [
    "model.load_state_dict(torch.load('checkpoint.pth'))"
   ]
  },
  {
   "cell_type": "code",
   "execution_count": 41,
   "metadata": {},
   "outputs": [
    {
     "name": "stdout",
     "output_type": "stream",
     "text": [
      "Expected: BreastMRI and got: BreastMRI\n",
      "Expected: ChestCT and got: ChestCT\n",
      "Expected: AbdomenCT and got: AbdomenCT\n",
      "Expected: HeadCT and got: HeadCT\n",
      "Expected: BreastMRI and got: BreastMRI\n",
      "Expected: HeadCT and got: HeadCT\n",
      "Expected: ChestCT and got: ChestCT\n",
      "Expected: BreastMRI and got: BreastMRI\n",
      "Expected: CXR and got: CXR\n",
      "Expected: ChestCT and got: ChestCT\n",
      "Expected: BreastMRI and got: BreastMRI\n",
      "Expected: Hand and got: Hand\n",
      "Expected: AbdomenCT and got: AbdomenCT\n",
      "Expected: AbdomenCT and got: AbdomenCT\n",
      "Expected: CXR and got: CXR\n",
      "Expected: Hand and got: Hand\n",
      "Expected: BreastMRI and got: BreastMRI\n",
      "Expected: HeadCT and got: HeadCT\n",
      "Accuracy: 99.58439636230469\n",
      "185\n"
     ]
    },
    {
     "data": {
      "image/png": "[encoded data removed]",
      "text/plain": [
       "<Figure size 432x288 with 1 Axes>"
      ]
     },
     "metadata": {
      "needs_background": "light"
     },
     "output_type": "display_data"
    }
   ],
   "source": [
    "pred_list = []\n",
    "total = 0\n",
    "correct = 0\n",
    "count = 0\n",
    "\n",
    "disp = 0\n",
    "for batch, (images, labels) in enumerate(testloader):\n",
    "    images = images.to(device)\n",
    "    labels = labels.to(device)\n",
    "    output = model(images)\n",
    "\n",
    "    _, top_class = torch.topk(output, 1, dim=1)\n",
    "    pred_list.append(top_class)\n",
    "\n",
    "    total += len(labels)\n",
    "    correct += (top_class == labels.view(*top_class.shape)).sum()\n",
    "    \n",
    "    count += 1\n",
    "    \n",
    "    if count % 10 == 0:\n",
    "        disp += 1\n",
    "        plt.imshow(images[disp].cpu().permute(1, 2, 0))\n",
    "        print(f\"Expected: {dataset.classes[labels[disp]]} and got: {dataset.classes[top_class[disp]]}\")\n",
    "\n",
    "print(f\"Accuracy: {correct * 100 / float(total)}\")\n",
    "print(len(pred_list))"
   ]
  }
 ],
 "metadata": {
  "kernelspec": {
   "display_name": "Python 3.8.12 ('pytorchMain')",
   "language": "python",
   "name": "python3"
  },
  "language_info": {
   "codemirror_mode": {
    "name": "ipython",
    "version": 3
   },
   "file_extension": ".py",
   "mimetype": "text/x-python",
   "name": "python",
   "nbconvert_exporter": "python",
   "pygments_lexer": "ipython3",
   "version": "3.8.12"
  },
  "orig_nbformat": 4,
  "vscode": {
   "interpreter": {
    "hash": "dea52dcf60439bbfeb15ff1bd40b703081e3cad41733c2dee57afaa83da4e6a5"
   }
  }
 },
 "nbformat": 4,
 "nbformat_minor": 2
}
