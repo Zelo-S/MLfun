{
 "cells": [
  {
   "cell_type": "code",
   "execution_count": 8,
   "metadata": {},
   "outputs": [],
   "source": [
    "import os\n",
    "import shutil\n",
    "from glob import glob"
   ]
  },
  {
   "cell_type": "code",
   "execution_count": 2,
   "metadata": {},
   "outputs": [
    {
     "name": "stdout",
     "output_type": "stream",
     "text": [
      "Training length:  130\n",
      "Validation Length:  32\n",
      "Testing Length 64\n"
     ]
    }
   ],
   "source": [
    "root='D:/MLDatasets/BRaTS 2021 Task 1 Dataset/archive/BraTS2021_Training_Data'\n",
    "\n",
    "training = os.path.join(root, 'Training')\n",
    "validation = os.path.join(root, 'Validation')\n",
    "testing = os.path.join(root, 'Testing')\n",
    "\n",
    "print(\"Training length: \", len(os.listdir(training)))\n",
    "print(\"Validation Length: \", len(os.listdir(validation)))\n",
    "print(\"Testing Length\", len(os.listdir(testing)))"
   ]
  },
  {
   "cell_type": "markdown",
   "metadata": {},
   "source": [
    "<h3>Process Training</h3>"
   ]
  },
  {
   "cell_type": "code",
   "execution_count": 24,
   "metadata": {},
   "outputs": [],
   "source": [
    "def move_to_folder(root_path, t1_ext_target, segmentation_ext_target):\n",
    "    img_store_path = os.path.join(root_path, 'images')\n",
    "    seg_store_path = os.path.join(root_path, 'segmentation')\n",
    "    \n",
    "    container_folders = os.listdir(root_path)\n",
    "    for i, folder in enumerate(container_folders):\n",
    "        if(folder == 'images' or folder == 'segmentation'):\n",
    "            continue\n",
    "        files = glob(os.path.join(root_path, folder, '*'))\n",
    "        \n",
    "        for e, file in enumerate(files):\n",
    "            if t1_ext_target in file:\n",
    "                shutil.copy(file, img_store_path)\n",
    "            elif segmentation_ext_target in file:\n",
    "                shutil.copy(file, seg_store_path)"
   ]
  },
  {
   "cell_type": "code",
   "execution_count": 26,
   "metadata": {},
   "outputs": [],
   "source": [
    "move_to_folder(training, \"t1.nii.gz\", \"seg.nii.gz\")\n",
    "move_to_folder(validation, \"t1.nii.gz\", \"seg.nii.gz\")\n",
    "move_to_folder(testing, \"t1.nii.gz\", \"seg.nii.gz\")"
   ]
  }
 ],
 "metadata": {
  "kernelspec": {
   "display_name": "Python 3.8.12 ('pytorchMain')",
   "language": "python",
   "name": "python3"
  },
  "language_info": {
   "codemirror_mode": {
    "name": "ipython",
    "version": 3
   },
   "file_extension": ".py",
   "mimetype": "text/x-python",
   "name": "python",
   "nbconvert_exporter": "python",
   "pygments_lexer": "ipython3",
   "version": "3.8.12"
  },
  "orig_nbformat": 4,
  "vscode": {
   "interpreter": {
    "hash": "dea52dcf60439bbfeb15ff1bd40b703081e3cad41733c2dee57afaa83da4e6a5"
   }
  }
 },
 "nbformat": 4,
 "nbformat_minor": 2
}
