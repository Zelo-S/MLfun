{
 "cells": [
  {
   "cell_type": "code",
   "execution_count": 1,
   "metadata": {},
   "outputs": [],
   "source": [
    "import pandas as pd\n",
    "import numpy as np\n",
    "import torch \n",
    "from numpy import float32\n",
    "from torch.utils.data import DataLoader, TensorDataset "
   ]
  },
  {
   "cell_type": "code",
   "execution_count": 16,
   "metadata": {},
   "outputs": [],
   "source": [
    "\n",
    "path = './testcsv.csv'\n",
    "csv = pd.read_csv(path)\n",
    "\n",
    "X_train = csv.drop('labels', axis=1).to_numpy().astype(float32)\n",
    "Y_label = csv['labels']\n",
    "\n",
    "train_tensor = torch.Tensor(X_train)\n",
    "label_tensor = torch.Tensor(Y_label)\n",
    "\n",
    "train_tensor_res = TensorDataset(train_tensor, label_tensor)\n"
   ]
  },
  {
   "cell_type": "code",
   "execution_count": 18,
   "metadata": {},
   "outputs": [
    {
     "name": "stdout",
     "output_type": "stream",
     "text": [
      "0 tensor([[1., 2., 1., 0., 1., 5., 2., 5., 7., 3.],\n",
      "        [1., 1., 1., 1., 0., 2., 4., 3., 4., 5.]]) tensor([4., 2.])\n",
      "1 tensor([[0., 1., 1., 0., 1., 7., 6., 4., 5., 6.],\n",
      "        [5., 1., 1., 2., 1., 4., 6., 4., 7., 8.]]) tensor([6., 3.])\n"
     ]
    }
   ],
   "source": [
    "import enum\n",
    "\n",
    "\n",
    "batch_size = 2\n",
    "\n",
    "train_loader = DataLoader(train_tensor_res, batch_size=batch_size)\n",
    "for batch, (image, label) in enumerate(train_loader):\n",
    "    print(batch, image, label)"
   ]
  },
  {
   "cell_type": "code",
   "execution_count": 5,
   "metadata": {},
   "outputs": [
    {
     "data": {
      "text/plain": [
       "tensor([[-0.2584,  0.5893,  0.1620, -0.7152,  2.8009,  0.2450,  2.4194,  1.0120,\n",
       "          0.6833,  1.2409]])"
      ]
     },
     "execution_count": 5,
     "metadata": {},
     "output_type": "execute_result"
    }
   ],
   "source": [
    "first = torch.randn(1,5)\n",
    "second = torch.randn(1,5)\n",
    "\n",
    "res = torch.cat([first, second], 1)\n",
    "\n",
    "res"
   ]
  }
 ],
 "metadata": {
  "kernelspec": {
   "display_name": "Python 3.8.12 ('pytorchMain')",
   "language": "python",
   "name": "python3"
  },
  "language_info": {
   "codemirror_mode": {
    "name": "ipython",
    "version": 3
   },
   "file_extension": ".py",
   "mimetype": "text/x-python",
   "name": "python",
   "nbconvert_exporter": "python",
   "pygments_lexer": "ipython3",
   "version": "3.8.12"
  },
  "orig_nbformat": 4,
  "vscode": {
   "interpreter": {
    "hash": "dea52dcf60439bbfeb15ff1bd40b703081e3cad41733c2dee57afaa83da4e6a5"
   }
  }
 },
 "nbformat": 4,
 "nbformat_minor": 2
}
