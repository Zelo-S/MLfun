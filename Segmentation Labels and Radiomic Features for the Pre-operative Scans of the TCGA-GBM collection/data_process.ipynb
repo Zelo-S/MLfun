{
 "cells": [
  {
   "cell_type": "code",
   "execution_count": 1,
   "metadata": {},
   "outputs": [],
   "source": [
    "import os\n",
    "import shutil\n",
    "from glob import glob"
   ]
  },
  {
   "cell_type": "code",
   "execution_count": 3,
   "metadata": {},
   "outputs": [
    {
     "name": "stdout",
     "output_type": "stream",
     "text": [
      "Training length: 103\n",
      "Testing Length: 34\n"
     ]
    }
   ],
   "source": [
    "root='D:/MLDatasets/TCGA-GBM Datasets'\n",
    "\n",
    "training = os.path.join(root, 'Training')\n",
    "testing = os.path.join(root, 'Testing')\n",
    "\n",
    "print(\"Training length:\", len(os.listdir(training)))\n",
    "print(\"Testing Length:\", len(os.listdir(testing)))"
   ]
  },
  {
   "cell_type": "markdown",
   "metadata": {},
   "source": [
    "<h3>Process Training</h3>"
   ]
  },
  {
   "cell_type": "code",
   "execution_count": 6,
   "metadata": {},
   "outputs": [],
   "source": [
    "def move_to_folder(root_path, ext_target, folder_number, segmentation_ext_target, alt_target_seg=None):\n",
    "    \n",
    "    img_store_path = os.path.join(root_path, f\"images_{folder_number}\")\n",
    "    seg_store_path = os.path.join(root_path, f\"segmentation{folder_number}\")\n",
    "\n",
    "    os.mkdir(img_store_path) \n",
    "    os.mkdir(seg_store_path) \n",
    "    \n",
    "    container_folders = os.listdir(root_path)\n",
    "    for i, folder in enumerate(container_folders):\n",
    "        if('images' in folder or 'segmentation' in folder):\n",
    "            continue\n",
    "        files = glob(os.path.join(root_path, folder, '*'))\n",
    "        if len(files) <= 5: print(folder)\n",
    "        for e, file in enumerate(files):\n",
    "            if ext_target in file:\n",
    "                shutil.copy(file, img_store_path)\n",
    "            elif segmentation_ext_target in file:\n",
    "                shutil.copy(file, seg_store_path)"
   ]
  },
  {
   "cell_type": "code",
   "execution_count": 7,
   "metadata": {},
   "outputs": [
    {
     "name": "stdout",
     "output_type": "stream",
     "text": [
      "TCGA_GBM_radiomicFeatures.csv\n",
      "\n",
      "TCGA_GBM_radiomicFeatures.csv\n",
      "TCGA_GBM_radiomicFeatures.csv\n",
      "\n",
      "TCGA_GBM_radiomicFeatures.csv\n",
      "TCGA_GBM_radiomicFeatures.csv\n",
      "\n",
      "TCGA_GBM_radiomicFeatures.csv\n",
      "TCGA_GBM_radiomicFeatures.csv\n",
      "\n",
      "TCGA_GBM_radiomicFeatures.csv\n"
     ]
    }
   ],
   "source": [
    "target_filenames = [\"flair.nii.gz\", \"t1.nii.gz\", \"t1Gd.nii.gz\", \"t2.nii.gz\"]\n",
    "target_segname = \"GlistrBoost_ManuallyCorrected.nii.gz\"\n",
    "alt_target_seg = \"GlistrBoost.nii.gz\"\n",
    "\n",
    "for i, target_filename in enumerate(target_filenames):\n",
    "    move_to_folder(training, target_filename, i, target_segname, alt_target_seg)\n",
    "    print()\n",
    "    move_to_folder(testing, target_filename, i, target_segname, alt_target_seg)"
   ]
  }
 ],
 "metadata": {
  "kernelspec": {
   "display_name": "Python 3.8.12 ('pytorchMain')",
   "language": "python",
   "name": "python3"
  },
  "language_info": {
   "codemirror_mode": {
    "name": "ipython",
    "version": 3
   },
   "file_extension": ".py",
   "mimetype": "text/x-python",
   "name": "python",
   "nbconvert_exporter": "python",
   "pygments_lexer": "ipython3",
   "version": "3.8.12"
  },
  "orig_nbformat": 4,
  "vscode": {
   "interpreter": {
    "hash": "dea52dcf60439bbfeb15ff1bd40b703081e3cad41733c2dee57afaa83da4e6a5"
   }
  }
 },
 "nbformat": 4,
 "nbformat_minor": 2
}
