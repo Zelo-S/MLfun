{
 "cells": [
  {
   "cell_type": "code",
   "execution_count": 12,
   "metadata": {},
   "outputs": [],
   "source": [
    "import os"
   ]
  },
  {
   "cell_type": "code",
   "execution_count": 13,
   "metadata": {},
   "outputs": [
    {
     "name": "stdout",
     "output_type": "stream",
     "text": [
      "Min chose is:  75\n"
     ]
    }
   ],
   "source": [
    "\n",
    "data_root_path = 'D:/MLDatasets/Liver Tumor Segmentation/dicom_files'\n",
    "\n",
    "image_path = os.path.join(data_root_path, 'images')\n",
    "labels_path = os.path.join(data_root_path, 'labels')\n",
    "\n",
    "min_chose = 100000\n",
    "    \n",
    "for folder in os.listdir(image_path):\n",
    "    min_chose = min(min_chose, len(os.listdir(os.path.join(image_path, folder))))\n",
    "\n",
    "    \n",
    "print(\"Min chose is: \", min_chose)"
   ]
  },
  {
   "cell_type": "code",
   "execution_count": 14,
   "metadata": {},
   "outputs": [],
   "source": [
    "from glob import glob\n",
    "import shutil"
   ]
  },
  {
   "cell_type": "code",
   "execution_count": 15,
   "metadata": {},
   "outputs": [
    {
     "name": "stdout",
     "output_type": "stream",
     "text": [
      "D:/MLDatasets/Liver Tumor Segmentation/dicom_files\\images\n",
      "D:/MLDatasets/Liver Tumor Segmentation/dicom_groups/images\n"
     ]
    }
   ],
   "source": [
    "labels_in_path = os.path.join(data_root_path, 'images')\n",
    "labels_out_path = 'D:/MLDatasets/Liver Tumor Segmentation/dicom_groups/images'\n",
    "\n",
    "print(labels_in_path)\n",
    "print(labels_out_path)"
   ]
  },
  {
   "cell_type": "code",
   "execution_count": 16,
   "metadata": {},
   "outputs": [
    {
     "name": "stdout",
     "output_type": "stream",
     "text": [
      "liver_0\n",
      "liver_1\n",
      "liver_10\n",
      "liver_2\n",
      "liver_3\n",
      "liver_4\n",
      "liver_5\n",
      "liver_6\n",
      "liver_7\n",
      "liver_8\n",
      "liver_9\n"
     ]
    }
   ],
   "source": [
    "\n",
    "\n",
    "for patient in glob(labels_in_path + '/*'):\n",
    "    patient_name = os.path.basename(os.path.normpath(patient))\n",
    "    number_folders = int(len(glob(patient+'/*')) / (min_chose))\n",
    "    \n",
    "    print(patient_name)\n",
    "    for i in range(number_folders):\n",
    "        output_path = os.path.join(labels_out_path, patient_name + '_' + str(i))\n",
    "        os.mkdir(os.path.normpath(output_path))\n",
    "        \n",
    "        for x, file in enumerate(glob(patient+'/*')):\n",
    "            if x == min_chose + 1:\n",
    "                break\n",
    "            shutil.move(file, output_path)\n",
    "        "
   ]
  },
  {
   "cell_type": "markdown",
   "metadata": {},
   "source": [
    "<h1></h1> DICOM TO NII"
   ]
  },
  {
   "cell_type": "code",
   "execution_count": 19,
   "metadata": {},
   "outputs": [],
   "source": [
    "import dicom2nifti\n",
    "\n",
    "images_in_path = 'D:/MLDatasets/Liver Tumor Segmentation/dicom_groups/images/*'\n",
    "labels_in_path = 'D:/MLDatasets/Liver Tumor Segmentation/dicom_groups/labels/*'\n",
    "\n",
    "images_list = glob(images_in_path)\n",
    "labels_list = glob(labels_in_path)\n"
   ]
  },
  {
   "cell_type": "code",
   "execution_count": 22,
   "metadata": {},
   "outputs": [],
   "source": [
    "image_out_path = 'D:/MLDatasets/Liver Tumor Segmentation/nifti_files/images'\n",
    "labels_out_path = 'D:/MLDatasets/Liver Tumor Segmentation/nifti_files/labels'\n",
    "\n",
    "for folder in labels_list:\n",
    "    folder_name = os.path.basename(os.path.normpath(folder))\n",
    "    dicom2nifti.dicom_series_to_nifti(folder, os.path.join(labels_out_path, folder_name + '.nii.gz'))\n",
    "    \n"
   ]
  },
  {
   "cell_type": "markdown",
   "metadata": {},
   "source": [
    "<h1>Cleaning set</h1>"
   ]
  },
  {
   "cell_type": "code",
   "execution_count": 31,
   "metadata": {},
   "outputs": [
    {
     "name": "stdout",
     "output_type": "stream",
     "text": [
      "66\n"
     ]
    }
   ],
   "source": [
    "import nibabel as nib\n",
    "import numpy as np\n",
    "\n",
    "nifti_input_file_path = 'D:/MLDatasets/Liver Tumor Segmentation/nifti_files/images/*'\n",
    "nifti_files_list = glob(nifti_input_file_path)\n",
    "\n",
    "print(len(nifti_files_list))"
   ]
  },
  {
   "cell_type": "code",
   "execution_count": 32,
   "metadata": {},
   "outputs": [],
   "source": [
    "for file in nifti_files_list:\n",
    "    nifti_file = nib.load(file)\n",
    "    fdata = nifti_file.get_fdata()\n",
    "\n",
    "    fdata_uniq_np = np.unique(fdata)\n",
    "\n",
    "    if len(fdata_uniq_np) <= 1:\n",
    "        print(file)"
   ]
  }
 ],
 "metadata": {
  "kernelspec": {
   "display_name": "Python 3.8.12 ('pytorchMain')",
   "language": "python",
   "name": "python3"
  },
  "language_info": {
   "codemirror_mode": {
    "name": "ipython",
    "version": 3
   },
   "file_extension": ".py",
   "mimetype": "text/x-python",
   "name": "python",
   "nbconvert_exporter": "python",
   "pygments_lexer": "ipython3",
   "version": "3.8.12"
  },
  "orig_nbformat": 4,
  "vscode": {
   "interpreter": {
    "hash": "dea52dcf60439bbfeb15ff1bd40b703081e3cad41733c2dee57afaa83da4e6a5"
   }
  }
 },
 "nbformat": 4,
 "nbformat_minor": 2
}
