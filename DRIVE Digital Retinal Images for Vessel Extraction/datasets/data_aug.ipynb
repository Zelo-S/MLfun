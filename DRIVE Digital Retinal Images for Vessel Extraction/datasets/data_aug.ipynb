{
 "cells": [
  {
   "cell_type": "code",
   "execution_count": 51,
   "metadata": {},
   "outputs": [],
   "source": [
    "import os\n",
    "import numpy as np\n",
    "import albumentations as A\n",
    "import cv2\n",
    "\n",
    "from PIL import Image\n",
    "from matplotlib import pyplot as plt\n",
    "from tqdm import tqdm"
   ]
  },
  {
   "cell_type": "code",
   "execution_count": 58,
   "metadata": {},
   "outputs": [
    {
     "ename": "error",
     "evalue": "OpenCV(4.0.1) C:\\ci\\opencv-suite_1573470242804\\work\\modules\\imgcodecs\\src\\loadsave.cpp:662: error: (-2:Unspecified error) could not find a writer for the specified extension in function 'cv::imwrite_'\n",
     "output_type": "error",
     "traceback": [
      "\u001b[1;31m---------------------------------------------------------------------------\u001b[0m",
      "\u001b[1;31merror\u001b[0m                                     Traceback (most recent call last)",
      "\u001b[1;32mc:\\Users\\steve\\OneDrive\\Documents\\IntroToDL\\MLfun\\DRIVE Digital Retinal Images for Vessel Extraction\\datasets\\data_aug.ipynb Cell 2\u001b[0m in \u001b[0;36m<module>\u001b[1;34m\u001b[0m\n\u001b[0;32m     <a href='vscode-notebook-cell:/c%3A/Users/steve/OneDrive/Documents/IntroToDL/MLfun/DRIVE%20Digital%20Retinal%20Images%20for%20Vessel%20Extraction/datasets/data_aug.ipynb#ch0000001?line=27'>28</a>\u001b[0m mask_save_path \u001b[39m=\u001b[39m os\u001b[39m.\u001b[39mpath\u001b[39m.\u001b[39mjoin(TRAIN_MASK_DIR, idx_on \u001b[39m+\u001b[39m \u001b[39m'\u001b[39m\u001b[39m_manual1.gif\u001b[39m\u001b[39m'\u001b[39m)\n\u001b[0;32m     <a href='vscode-notebook-cell:/c%3A/Users/steve/OneDrive/Documents/IntroToDL/MLfun/DRIVE%20Digital%20Retinal%20Images%20for%20Vessel%20Extraction/datasets/data_aug.ipynb#ch0000001?line=29'>30</a>\u001b[0m cv2\u001b[39m.\u001b[39mimwrite(img_save_path, img_aug)\n\u001b[1;32m---> <a href='vscode-notebook-cell:/c%3A/Users/steve/OneDrive/Documents/IntroToDL/MLfun/DRIVE%20Digital%20Retinal%20Images%20for%20Vessel%20Extraction/datasets/data_aug.ipynb#ch0000001?line=30'>31</a>\u001b[0m cv2\u001b[39m.\u001b[39;49mimwrite(mask_save_path, mask_aug)\n",
      "\u001b[1;31merror\u001b[0m: OpenCV(4.0.1) C:\\ci\\opencv-suite_1573470242804\\work\\modules\\imgcodecs\\src\\loadsave.cpp:662: error: (-2:Unspecified error) could not find a writer for the specified extension in function 'cv::imwrite_'\n"
     ]
    }
   ],
   "source": [
    "\n",
    "TRAIN_IMG_DIR = './training/training/images/'\n",
    "TRAIN_MASK_DIR = './training/training/true_mask/'\n",
    "\n",
    "transforms = A.Compose([\n",
    "    A.Rotate(limit=45, p=0.6, border_mode=cv2.BORDER_CONSTANT),\n",
    "    A.HorizontalFlip(p=0.5)\n",
    "])\n",
    "\n",
    "\n",
    "for gen_num in range(21, 41):\n",
    "    idx_on = str(gen_num)\n",
    "    train_img = np.array(Image.open( os.path.join(TRAIN_IMG_DIR, idx_on + '_training.png') ).convert(\"RGB\"))\n",
    "    train_mask = np.array(Image.open( os.path.join(TRAIN_MASK_DIR, idx_on + '_manual1.gif') ), dtype=np.float32)\n",
    "\n",
    "    augmentation = transforms(image=train_img, mask=train_mask)\n",
    "\n",
    "    img_aug = augmentation[\"image\"]\n",
    "    mask_aug = augmentation[\"mask\"]\n",
    "\n",
    "    img_aug = cv2.resize(img_aug, img_aug.shape[:2])\n",
    "    mask_aug = cv2.resize(mask_aug, mask_aug.shape[:2])\n",
    "\n",
    "    img_aug = cv2.cvtColor(img_aug, cv2.COLOR_BGR2RGB)\n",
    "    \n",
    "    \n",
    "    idx_on = str(gen_num+21)\n",
    "    img_save_path = os.path.join(TRAIN_IMG_DIR, idx_on + '_training.png')\n",
    "    mask_save_path = os.path.join(TRAIN_MASK_DIR, idx_on + '_manual1.gif')\n",
    "\n",
    "    cv2.imwrite(img_save_path, img_aug)\n",
    "    cv2.imwrite(mask_save_path, mask_aug)"
   ]
  },
  {
   "cell_type": "code",
   "execution_count": null,
   "metadata": {},
   "outputs": [],
   "source": []
  }
 ],
 "metadata": {
  "kernelspec": {
   "display_name": "Python 3.8.12 ('pytorchMain')",
   "language": "python",
   "name": "python3"
  },
  "language_info": {
   "codemirror_mode": {
    "name": "ipython",
    "version": 3
   },
   "file_extension": ".py",
   "mimetype": "text/x-python",
   "name": "python",
   "nbconvert_exporter": "python",
   "pygments_lexer": "ipython3",
   "version": "3.8.12"
  },
  "orig_nbformat": 4,
  "vscode": {
   "interpreter": {
    "hash": "dea52dcf60439bbfeb15ff1bd40b703081e3cad41733c2dee57afaa83da4e6a5"
   }
  }
 },
 "nbformat": 4,
 "nbformat_minor": 2
}
