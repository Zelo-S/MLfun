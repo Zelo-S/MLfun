{
 "cells": [
  {
   "cell_type": "code",
   "execution_count": 69,
   "metadata": {},
   "outputs": [],
   "source": [
    "import os\n",
    "import numpy as np\n",
    "import albumentations as A\n",
    "import cv2\n",
    "\n",
    "from PIL import Image\n",
    "from matplotlib import pyplot as plt\n",
    "from tqdm import tqdm"
   ]
  },
  {
   "cell_type": "code",
   "execution_count": 70,
   "metadata": {},
   "outputs": [],
   "source": [
    "TRAIN_IMG_DIR = './training/training/images/'\n",
    "TRAIN_MASK_DIR = './training/training/true_mask/'\n",
    "\n",
    "transforms = A.Compose([\n",
    "    A.Rotate(limit=45, p=0.6, border_mode=cv2.BORDER_CONSTANT),\n",
    "    A.VerticalFlip(p=0.1),\n",
    "    A.HorizontalFlip(p=0.5)\n",
    "])\n",
    "\n",
    "\n",
    "for gen_num in range(81, 101):\n",
    "    idx_on = str(gen_num)\n",
    "    train_img = np.array(Image.open( os.path.join(TRAIN_IMG_DIR, idx_on + '_training.png') ).convert(\"RGB\"))\n",
    "    train_mask = np.array(Image.open( os.path.join(TRAIN_MASK_DIR, idx_on + '_manual1.png') ), dtype=np.float32)\n",
    "\n",
    "    augmentation = transforms(image=train_img, mask=train_mask)\n",
    "\n",
    "    img_aug = augmentation[\"image\"]\n",
    "    mask_aug = augmentation[\"mask\"]\n",
    "\n",
    "    img_aug = cv2.resize(img_aug, img_aug.shape[:2])\n",
    "    mask_aug = cv2.resize(mask_aug, mask_aug.shape[:2])\n",
    "\n",
    "    img_aug = cv2.cvtColor(img_aug, cv2.COLOR_BGR2RGB)\n",
    "    \n",
    "    \n",
    "    idx_on = str(gen_num+20)\n",
    "    img_save_path = os.path.join(TRAIN_IMG_DIR, idx_on + '_training.png')\n",
    "    mask_save_path = os.path.join(TRAIN_MASK_DIR, idx_on + '_manual1.png')\n",
    "\n",
    "    cv2.imwrite(img_save_path, img_aug)\n",
    "    cv2.imwrite(mask_save_path, mask_aug)"
   ]
  },
  {
   "cell_type": "code",
   "execution_count": 71,
   "metadata": {},
   "outputs": [
    {
     "name": "stdout",
     "output_type": "stream",
     "text": [
      "100\n"
     ]
    }
   ],
   "source": [
    "temp = os.listdir(TRAIN_IMG_DIR)\n",
    "print(len(temp))"
   ]
  }
 ],
 "metadata": {
  "kernelspec": {
   "display_name": "Python 3.8.12 ('pytorchMain')",
   "language": "python",
   "name": "python3"
  },
  "language_info": {
   "codemirror_mode": {
    "name": "ipython",
    "version": 3
   },
   "file_extension": ".py",
   "mimetype": "text/x-python",
   "name": "python",
   "nbconvert_exporter": "python",
   "pygments_lexer": "ipython3",
   "version": "3.8.12"
  },
  "orig_nbformat": 4,
  "vscode": {
   "interpreter": {
    "hash": "dea52dcf60439bbfeb15ff1bd40b703081e3cad41733c2dee57afaa83da4e6a5"
   }
  }
 },
 "nbformat": 4,
 "nbformat_minor": 2
}
